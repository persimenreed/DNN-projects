{
 "cells": [
  {
   "cell_type": "code",
   "execution_count": 110,
   "id": "df2b69b0-f3a7-46e3-8b6e-955e264b9173",
   "metadata": {},
   "outputs": [],
   "source": [
    "## Importing numpy and pandas for data handling\n",
    "## Importing matplotlib for plotting graphs\n",
    "import numpy as np\n",
    "import pandas as pd\n",
    "import matplotlib.pyplot as plt\n",
    "import math"
   ]
  },
  {
   "cell_type": "markdown",
   "id": "968aaa92-1501-4435-8dfb-62ae5bfbef9c",
   "metadata": {},
   "source": [
    "## Preparing Data\n",
    "First I import the data using Pandas. I had some issues importing using numpy as some of the columns had text as input. Next I only includes the rows that has either 'cp' or 'im' in the eight column. Then I drop the first column, as it only contain text and is not useful for the testing. \n",
    "\n"
   ]
  },
  {
   "cell_type": "code",
   "execution_count": 126,
   "id": "44d502f7-b066-41aa-a8bb-a50e639458f4",
   "metadata": {},
   "outputs": [
    {
     "name": "stdout",
     "output_type": "stream",
     "text": [
      "176\n",
      "44\n"
     ]
    }
   ],
   "source": [
    "dataset_unfiltered = pd.read_csv(\"../../Datasets/ecoli.data\", sep='\\\\s+', header=None)\n",
    "dataset_filtered = dataset_unfiltered[dataset_unfiltered.iloc[:, 8].isin(['cp', 'im'])]\n",
    "dataset_filtered = dataset_filtered.drop(dataset_filtered.columns[0], axis=1)\n",
    "dataset_filtered.iloc[:, 7] = dataset_filtered.iloc[:, 7].replace(['im', 'cp'], ['1', '0'])\n",
    "dataset_filtered = dataset_filtered.astype(float)\n",
    "dataset = dataset_filtered.values\n",
    "\n",
    "## Increasing the dataset and shuffeling.\n",
    "np.random.seed(7)\n",
    "np.random.shuffle(dataset)\n",
    "\n",
    "# Training data and testing data\n",
    "split_ratio = 0.8\n",
    "split_index = int(len(dataset) * split_ratio)\n",
    "train_data = dataset[:split_index, :]\n",
    "test_data = dataset[split_index:, :]\n",
    "\n",
    "#train_data = np.concatenate([train_data] * 100)\n",
    "#np.random.shuffle(train_data)\n",
    "\n",
    "print(len(train_data))\n",
    "print(len(test_data))"
   ]
  },
  {
   "cell_type": "markdown",
   "id": "f87ef370-919c-4990-ae91-fb0ffd8d1162",
   "metadata": {},
   "source": [
    "## Architecture\n",
    "My initial thoughts can be seen in this image: https://postimg.cc/FkzYbXkq\n",
    "\n",
    "The weight names do not represent how it is structured in this file."
   ]
  },
  {
   "cell_type": "code",
   "execution_count": 127,
   "id": "c78b1f8d-02ec-40a9-95cc-b397778540aa",
   "metadata": {},
   "outputs": [
    {
     "name": "stdout",
     "output_type": "stream",
     "text": [
      "[ 0.3933918  -0.14589301 -0.73085908 -0.33728558  0.18069171  0.88132279\n",
      "  0.98511544 -0.51679417 -0.97884019  0.66128065  0.85322588 -0.08279304\n",
      "  0.54288469  0.73239807]\n"
     ]
    }
   ],
   "source": [
    "weights = np.random.uniform(-1, 1, 14)\n",
    "print(weights)\n",
    "\n",
    "def sigmoid(z):\n",
    "    if(z<-100):\n",
    "        return 0\n",
    "    if(z>100):\n",
    "        return 1\n",
    "    return 1.0/(1+math.exp(-z))\n",
    "\n",
    "def sigmoid_derivative(z):\n",
    "    return z * (1.0 - z)\n",
    "\n",
    "def firstLayer(row, weights):\n",
    "    activation_1 = weights[0]\n",
    "    activation_1 += weights[1]*row[0]\n",
    "    activation_1 += weights[2]*row[1]\n",
    "\n",
    "    activation_2 = weights[3]\n",
    "    activation_2 += weights[4]*row[2]\n",
    "    activation_2 += weights[5]*row[3]\n",
    "\n",
    "    activation_3 = weights[6]\n",
    "    activation_3 += weights[7]*row[4]\n",
    "    activation_3 += weights[8]*row[5]\n",
    "    activation_3 += weights[9]*row[6]\n",
    "\n",
    "    return sigmoid(activation_1), sigmoid(activation_2), sigmoid(activation_3)\n",
    "\n",
    "def secondLayer(row, weights):\n",
    "    activation_4 = weights[10]\n",
    "    activation_4 += weights[11]*row[0]\n",
    "    activation_4 += weights[12]*row[1]\n",
    "    activation_4 += weights[13]*row[2]\n",
    "    return sigmoid(activation_4)\n",
    "\n",
    "def predict(row, weights):\n",
    "    input_layer = row\n",
    "    first_layer = firstLayer(input_layer, weights)\n",
    "    second_layer = secondLayer(first_layer, weights)\n",
    "    return second_layer, first_layer\n"
   ]
  },
  {
   "cell_type": "code",
   "execution_count": 128,
   "id": "7e934345-955c-4a90-a15b-352e65084bd4",
   "metadata": {},
   "outputs": [],
   "source": [
    "train_loss = []\n",
    "train_acc = []\n",
    "\n",
    "def train_weights(train, learningrate, epochs):\n",
    "    \n",
    "    for epoch in range(epochs):\n",
    "        sum_error = 0.0\n",
    "        correct_train = 0\n",
    "\n",
    "        # training phase\n",
    "        for row in train_data:\n",
    "            prediction, first_layer = predict(row, weights)\n",
    "            error = row[-1]-prediction\n",
    "            sum_error += error**2 # Making error squared to get positive values\n",
    "\n",
    "            # Backpropagation\n",
    "            output_delta = error * sigmoid_derivative(prediction)\n",
    "\n",
    "            # Backpropogation for the second layer\n",
    "            weights[10] += learningrate * output_delta\n",
    "            weights[11] += learningrate * output_delta * first_layer[0]\n",
    "            weights[12] += learningrate * output_delta * first_layer[1]\n",
    "            weights[13] += learningrate * output_delta * first_layer[2]\n",
    "\n",
    "             # Backpropagation for first layer\n",
    "            first_layer_error = [output_delta * weights[11], output_delta * weights[12], output_delta * weights[13]]\n",
    "            \n",
    "            first_layer_delta = [\n",
    "                first_layer_error[0] * first_layer[0] * (1.0 - first_layer[0]),\n",
    "                first_layer_error[1] * first_layer[1] * (1.0 - first_layer[1]),\n",
    "                first_layer_error[2] * first_layer[2] * (1.0 - first_layer[2])\n",
    "            ]\n",
    "\n",
    "\n",
    "            # First layer\n",
    "            weights[0] += learningrate*first_layer_delta[0]\n",
    "            weights[1] += learningrate*first_layer_delta[0]*row[0]\n",
    "            weights[2] += learningrate*first_layer_delta[0]*row[1]\n",
    "            \n",
    "            weights[3] += learningrate*first_layer_delta[1]\n",
    "            weights[4] += learningrate*first_layer_delta[1]*row[2]\n",
    "            weights[5] += learningrate*first_layer_delta[1]*row[3]\n",
    "\n",
    "            weights[6] += learningrate*first_layer_delta[2]\n",
    "            weights[7] += learningrate*first_layer_delta[2]*row[4]\n",
    "            weights[8] += learningrate*first_layer_delta[2]*row[5]\n",
    "            weights[9] += learningrate*first_layer_delta[2]*row[6]\n",
    "\n",
    "            predicted_class = int(round(prediction))\n",
    "            actual_class = int(row[-1])\n",
    "\n",
    "            if predicted_class == actual_class:\n",
    "                correct_train += 1\n",
    "\n",
    "        mse_train = sum_error / len(train_data)\n",
    "        train_loss.append(mse_train)\n",
    "\n",
    "        acc_train = correct_train/len(train_data)\n",
    "        train_acc.append(acc_train)\n",
    "\n",
    "        if(epoch%50 == 0):\n",
    "            print(f\"Epoch {epoch}, Accuracy: {acc_train:.4f}, MSE Loss: {mse_train:.4f}\")\n",
    "    return weights"
   ]
  },
  {
   "cell_type": "markdown",
   "id": "08b786f0-a6ef-4193-b3d5-e17971014c15",
   "metadata": {},
   "source": [
    "## Evaluating data\n",
    "Using the updated weights for the test data to validate the model"
   ]
  },
  {
   "cell_type": "code",
   "execution_count": 129,
   "id": "9b54e520-9809-4c3f-93a2-8c21717e9289",
   "metadata": {},
   "outputs": [],
   "source": [
    "def evaluate_data(test_data, weights):\n",
    "    sum_error = 0.0\n",
    "    correct_test = 0\n",
    "\n",
    "    for row in test_data:\n",
    "        prediction, _ = predict(row[:-1], weights)\n",
    "        error = row[-1] - prediction\n",
    "        sum_error += error**2\n",
    "\n",
    "        predicted_class = int(round(prediction))\n",
    "        actual_class = int(row[-1])\n",
    "\n",
    "        if predicted_class == actual_class:\n",
    "            correct_test += 1\n",
    "\n",
    "    mse_test = sum_error / len(test_data)\n",
    "    acc_test = correct_test / len(test_data)\n",
    "    return mse_test, acc_test"
   ]
  },
  {
   "cell_type": "markdown",
   "id": "2637b711-6ce4-4460-b1d1-bd4c85802867",
   "metadata": {},
   "source": [
    "## Initializing the model\n",
    "Learning rate and number of epochs is set, and the weights are trained. Then the data is evaluated."
   ]
  },
  {
   "cell_type": "code",
   "execution_count": 130,
   "id": "9119f396-49a7-4598-9ef6-4df0a5550fc1",
   "metadata": {},
   "outputs": [
    {
     "name": "stdout",
     "output_type": "stream",
     "text": [
      "Epoch 0, Accuracy: 0.3523, MSE Loss: 0.4419\n",
      "Epoch 50, Accuracy: 0.6477, MSE Loss: 0.2251\n",
      "Epoch 100, Accuracy: 0.6477, MSE Loss: 0.2203\n",
      "Epoch 150, Accuracy: 0.6477, MSE Loss: 0.2073\n",
      "Epoch 200, Accuracy: 0.6477, MSE Loss: 0.1826\n",
      "Epoch 250, Accuracy: 0.8295, MSE Loss: 0.1471\n",
      "TEST DATA: Accuracy: 0.9545, MSE Loss: 0.1111\n",
      "Weight 1 :  0.32201286981880944\n",
      "Weight 2 :  -0.7963152499669857\n",
      "Weight 3 :  -1.2147720260057786\n",
      "Weight 4 :  -0.3032379012467229\n",
      "Weight 5 :  0.20811266619706648\n",
      "Weight 6 :  0.8983466252069999\n",
      "Weight 7 :  1.931548030901348\n",
      "Weight 8 :  -0.48704979606818427\n",
      "Weight 9 :  -3.214604551004868\n",
      "Weight 10 :  -0.7439447515864707\n",
      "Weight 11 :  1.0489396259620596\n",
      "Weight 12 :  -0.9496760969600999\n",
      "Weight 13 :  0.6610208688831121\n",
      "Weight 14 :  -3.594355947617329\n"
     ]
    }
   ],
   "source": [
    "learningrate = 0.01\n",
    "epochs = 300\n",
    "\n",
    "train_weights = train_weights(train_data,learningrate,epochs)\n",
    "test_loss, test_acc = evaluate_data(test_data, weights)\n",
    "\n",
    "print(f\"TEST DATA: Accuracy: {test_acc:.4f}, MSE Loss: {test_loss:.4f}\")\n",
    "\n",
    "\n",
    "# Printing final weights\n",
    "count = 0\n",
    "for i in weights:\n",
    "    count+=1;\n",
    "    print('Weight', count , ': ', i)"
   ]
  },
  {
   "cell_type": "markdown",
   "id": "05a6380b-df54-4165-aa28-59efa21c2afc",
   "metadata": {},
   "source": [
    "## Plotting data"
   ]
  },
  {
   "cell_type": "code",
   "execution_count": 92,
   "id": "7d77a603-6002-45af-b455-2a07551c16c8",
   "metadata": {},
   "outputs": [
    {
     "data": {
      "image/png": "[encoded data removed]",
      "text/plain": [
       "<Figure size 640x480 with 1 Axes>"
      ]
     },
     "metadata": {},
     "output_type": "display_data"
    },
    {
     "data": {
      "image/png": "[encoded data removed]",
      "text/plain": [
       "<Figure size 640x480 with 1 Axes>"
      ]
     },
     "metadata": {},
     "output_type": "display_data"
    }
   ],
   "source": [
    "plt.plot(train_loss)\n",
    "plt.grid(True)\n",
    "plt.title('Model loss during training')\n",
    "plt.ylabel('Loss')\n",
    "plt.xlabel('Epoch')\n",
    "plt.show()\n",
    "\n",
    "plt.plot(train_acc)\n",
    "plt.grid(True)\n",
    "plt.title('Model accuracy during training')\n",
    "plt.ylabel('Accuracy')\n",
    "plt.xlabel('Epoch')\n",
    "plt.show()\n"
   ]
  },
  {
   "cell_type": "code",
   "execution_count": null,
   "id": "2096293b-5be6-49fb-b929-8709755efe62",
   "metadata": {},
   "outputs": [],
   "source": []
  }
 ],
 "metadata": {
  "kernelspec": {
   "display_name": "Python 3 (ipykernel)",
   "language": "python",
   "name": "python3"
  },
  "language_info": {
   "codemirror_mode": {
    "name": "ipython",
    "version": 3
   },
   "file_extension": ".py",
   "mimetype": "text/x-python",
   "name": "python",
   "nbconvert_exporter": "python",
   "pygments_lexer": "ipython3",
   "version": "3.11.6"
  }
 },
 "nbformat": 4,
 "nbformat_minor": 5
}
