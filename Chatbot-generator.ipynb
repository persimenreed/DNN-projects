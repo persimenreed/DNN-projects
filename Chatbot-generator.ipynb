{
 "cells": [
  {
   "cell_type": "code",
   "execution_count": 17,
   "id": "390add96-89cc-4ad0-837d-49efe18f017c",
   "metadata": {},
   "outputs": [
    {
     "name": "stderr",
     "output_type": "stream",
     "text": [
      "[nltk_data] Downloading package stopwords to\n",
      "[nltk_data]     /home/persr18/nltk_data...\n",
      "[nltk_data]   Unzipping corpora/stopwords.zip.\n"
     ]
    },
    {
     "data": {
      "text/plain": [
       "True"
      ]
     },
     "execution_count": 17,
     "metadata": {},
     "output_type": "execute_result"
    }
   ],
   "source": [
    "#!pip install --upgrade nltk\n",
    "nltk.download('stopwords')"
   ]
  },
  {
   "cell_type": "code",
   "execution_count": 11,
   "id": "17689e13-38c5-4bda-9d8a-56e550def5ff",
   "metadata": {},
   "outputs": [
    {
     "name": "stdout",
     "output_type": "stream",
     "text": [
      "Training on GPU!\n"
     ]
    }
   ],
   "source": [
    "import numpy as np\n",
    "import pandas as pd\n",
    "import matplotlib.pyplot as plt\n",
    "import nltk\n",
    "import string\n",
    "import random\n",
    "import torch\n",
    "\n",
    "train_on_gpu = torch.cuda.is_available()\n",
    "if train_on_gpu:\n",
    "    print('Training on GPU!')\n",
    "else:\n",
    "    print('No GPU available, training on CPU; consider making n_epochs very small.')\n",
    "\n",
    "device = torch.device(\"cuda\" if torch.cuda.is_available() else \"cpu\")\n",
    "\n",
    "questions_df = pd.read_csv('dataset/Questions.csv', nrows=500, encoding='ISO-8859-1')\n",
    "answers_df = pd.read_csv('dataset/Answers.csv', nrows=500, encoding='ISO-8859-1')"
   ]
  },
  {
   "cell_type": "code",
   "execution_count": 12,
   "id": "a8965b54-9e80-4bbb-ad8c-367e79ec4d83",
   "metadata": {},
   "outputs": [
    {
     "name": "stderr",
     "output_type": "stream",
     "text": [
      "/tmp/ipykernel_1003/1555905505.py:7: MarkupResemblesLocatorWarning: The input looks more like a filename than markup. You may want to open this file and pass the filehandle into Beautiful Soup.\n",
      "  soup = BeautifulSoup(text, 'html.parser')\n",
      "[nltk_data] Downloading package stopwords to\n",
      "[nltk_data]     /home/persr18/nltk_data...\n",
      "[nltk_data]   Package stopwords is already up-to-date!\n",
      "[nltk_data] Downloading package wordnet to /home/persr18/nltk_data...\n",
      "[nltk_data]   Package wordnet is already up-to-date!\n"
     ]
    }
   ],
   "source": [
    "from bs4 import BeautifulSoup\n",
    "from html import unescape\n",
    "\n",
    "def clean_text(text):\n",
    "    if pd.isnull(text):\n",
    "        return ''\n",
    "    soup = BeautifulSoup(text, 'html.parser')\n",
    "    text = soup.get_text()\n",
    "    text = unescape(text)\n",
    "    return text\n",
    "\n",
    "questions_df['CleanedTitle'] = questions_df['Title'].apply(clean_text)\n",
    "questions_df['CleanedBody'] = questions_df['Body'].apply(clean_text)\n",
    "questions_df['CleanedQuestion'] = questions_df['CleanedTitle'] + ' ' + questions_df['CleanedBody']\n",
    "question_texts = questions_df['CleanedQuestion'].tolist()\n",
    "\n",
    "answers_df['CleanedBody'] = answers_df['Body'].apply(clean_text)\n",
    "answer_texts = answers_df['CleanedBody'].tolist()\n",
    "\n",
    "combined_text = question_texts + answer_texts\n",
    "combined_text = ' '.join(combined_text)\n",
    "\n",
    "import nltk\n",
    "nltk.download('stopwords')\n",
    "nltk.download('wordnet')\n",
    "\n",
    "stop = set(nltk.corpus.stopwords.words('english'))\n",
    "exclude = set(string.punctuation)\n",
    "lemma = nltk.stem.wordnet.WordNetLemmatizer()\n",
    "\n",
    "def clean(doc):\n",
    "    punc_free = \"\".join(ch for ch in doc if ch not in exclude)\n",
    "    normalized = \" \".join(lemma.lemmatize(word) for word in punc_free.lower().split())\n",
    "    return normalized\n",
    "\n",
    "combined_cleaned_text = clean(combined_text).split()\n",
    "\n",
    "trigrams = [([combined_cleaned_text[i], combined_cleaned_text[i + 1]], combined_cleaned_text[i + 2])\n",
    "            for i in range(len(combined_cleaned_text) - 2)]\n",
    "\n",
    "vocab = set(combined_cleaned_text)\n",
    "vocab.add('<UNK>')\n",
    "voc_len = len(vocab)\n",
    "word_to_ix = {word: i for i, word in enumerate(vocab)}\n",
    "ix_to_word = {i: word for word, i in word_to_ix.items()}\n",
    "\n",
    "inp = []\n",
    "tar = []\n",
    "unk_idx = word_to_ix['<UNK>']\n",
    "for context, target in trigrams:\n",
    "    context_idxs = torch.tensor([word_to_ix.get(w, unk_idx) for w in context], dtype=torch.long)\n",
    "    inp.append(context_idxs)\n",
    "    targ = torch.tensor([word_to_ix.get(target, unk_idx)], dtype=torch.long)\n",
    "    tar.append(targ)"
   ]
  },
  {
   "cell_type": "code",
   "execution_count": 13,
   "id": "143be650-4418-4989-bc2e-02095522a8e6",
   "metadata": {},
   "outputs": [],
   "source": [
    "import torch.nn as nn\n",
    "\n",
    "class RNN(nn.Module):\n",
    "    def __init__(self, input_size, hidden_size, output_size, n_layers=1):\n",
    "        super(RNN, self).__init__()\n",
    "        self.input_size = input_size\n",
    "        self.hidden_size = hidden_size\n",
    "        self.output_size = output_size\n",
    "        self.n_layers = n_layers\n",
    "\n",
    "        self.encoder = nn.Embedding(input_size, hidden_size)\n",
    "        self.gru = nn.GRU(hidden_size * 2, hidden_size, n_layers, batch_first=True)\n",
    "        self.decoder = nn.Linear(hidden_size, output_size)\n",
    "\n",
    "    def forward(self, input, hidden):\n",
    "        input = self.encoder(input.view(1, -1))\n",
    "        output, hidden = self.gru(input.view(1, 1, -1), hidden)\n",
    "        output = self.decoder(output.view(1, -1))\n",
    "        return output, hidden\n",
    "\n",
    "    def init_hidden(self):\n",
    "        return torch.zeros(self.n_layers, 1, self.hidden_size).to(device)\n",
    "\n",
    "hidden_size = 100\n",
    "n_layers = 1\n",
    "decoder = RNN(voc_len, hidden_size, voc_len, n_layers).to(device)\n",
    "\n",
    "decoder_optimizer = torch.optim.Adam(decoder.parameters(), lr=0.015)\n",
    "criterion = nn.CrossEntropyLoss()\n",
    "\n",
    "def train(inp, target):\n",
    "    hidden = decoder.init_hidden()\n",
    "    decoder.zero_grad()\n",
    "    total_loss = 0\n",
    "\n",
    "    batch_size = 32\n",
    "    num_batches = len(inp) // batch_size\n",
    "\n",
    "    for i in range(num_batches):\n",
    "        batch_inp = inp[i * batch_size:(i + 1) * batch_size]\n",
    "        batch_tar = target[i * batch_size:(i + 1) * batch_size]\n",
    "        loss = 0\n",
    "\n",
    "        for c in range(len(batch_inp)):\n",
    "            input_tensor = batch_inp[c].to(device)\n",
    "            target_tensor = batch_tar[c].to(device)\n",
    "            output, hidden = decoder(input_tensor, hidden)\n",
    "            loss += criterion(output, target_tensor)\n",
    "\n",
    "        loss.backward()\n",
    "        decoder_optimizer.step()\n",
    "\n",
    "        decoder.zero_grad()\n",
    "        hidden = decoder.init_hidden()\n",
    "\n",
    "        total_loss += loss.item()\n",
    "\n",
    "    remaining = len(inp) % batch_size\n",
    "    if remaining > 0:\n",
    "        batch_inp = inp[num_batches * batch_size:]\n",
    "        batch_tar = target[num_batches * batch_size:]\n",
    "        loss = 0\n",
    "\n",
    "        for c in range(len(batch_inp)):\n",
    "            input_tensor = batch_inp[c].to(device)\n",
    "            target_tensor = batch_tar[c].to(device)\n",
    "            output, hidden = decoder(input_tensor, hidden)\n",
    "            loss += criterion(output, target_tensor)\n",
    "\n",
    "        loss.backward()\n",
    "        decoder_optimizer.step()\n",
    "        decoder.zero_grad()\n",
    "        hidden = decoder.init_hidden()\n",
    "        total_loss += loss.item()\n",
    "\n",
    "    average_loss = total_loss / len(inp)\n",
    "    return average_loss\n"
   ]
  },
  {
   "cell_type": "code",
   "execution_count": 14,
   "id": "67206a9c-420f-4260-b89c-c8786ac2d341",
   "metadata": {},
   "outputs": [
    {
     "name": "stdout",
     "output_type": "stream",
     "text": [
      "[3m 56s (2 40%) 9.1870]\n",
      "[7m 52s (4 80%) 9.1580]\n"
     ]
    },
    {
     "data": {
      "image/png": "[encoded data removed]",
      "text/plain": [
       "<Figure size 640x480 with 1 Axes>"
      ]
     },
     "metadata": {},
     "output_type": "display_data"
    }
   ],
   "source": [
    "import time, math\n",
    "\n",
    "def time_since(since):\n",
    "    s = time.time() - since\n",
    "    m = math.floor(s / 60)\n",
    "    s -= m * 60\n",
    "    return '%dm %ds' % (m, s)\n",
    "\n",
    "n_epochs = 5\n",
    "print_every = 2\n",
    "plot_every = 2\n",
    "all_losses = []\n",
    "loss_avg = 0\n",
    "\n",
    "start = time.time()\n",
    "for epoch in range(1, n_epochs + 1):\n",
    "    loss = train(inp, tar)\n",
    "    loss_avg += loss\n",
    "\n",
    "    if epoch % print_every == 0:\n",
    "        print('[%s (%d %d%%) %.4f]' % (time_since(start), epoch, epoch / n_epochs * 100, loss))\n",
    "\n",
    "    if epoch % plot_every == 0:\n",
    "        all_losses.append(loss_avg / plot_every)\n",
    "        loss_avg = 0\n",
    "\n",
    "plt.figure()\n",
    "plt.plot(all_losses)\n",
    "plt.xlabel('Epochs')\n",
    "plt.ylabel('Loss')\n",
    "plt.show()"
   ]
  },
  {
   "cell_type": "code",
   "execution_count": 15,
   "id": "5db84903-f33a-43cf-94b2-66fd32e023a2",
   "metadata": {},
   "outputs": [],
   "source": [
    "def evaluate(prime_str='this process', predict_len=20, temperature=0.1):\n",
    "    hidden = decoder.init_hidden()\n",
    "    default_idx = next(iter(word_to_ix.values()))\n",
    "    prime_input = torch.tensor([word_to_ix.get(w, default_idx) for w in prime_str.lower().split()], dtype=torch.long).to(device)\n",
    "    predicted_words = []\n",
    "\n",
    "    for p in range(predict_len):\n",
    "        if len(prime_input) < 2:\n",
    "            inp = torch.cat((torch.tensor([default_idx], dtype=torch.long).to(device), prime_input))\n",
    "        else:\n",
    "            inp = prime_input[-2:]\n",
    "        output, hidden = decoder(inp, hidden)\n",
    "\n",
    "        output_dist = torch.nn.functional.softmax(output.view(-1) / temperature, dim=0)\n",
    "\n",
    "        if torch.isnan(output_dist).any() or torch.isinf(output_dist).any():\n",
    "            print(\"Warning: output_dist contains NaN or Inf values.\")\n",
    "            break\n",
    "\n",
    "        top_i = torch.multinomial(output_dist, 1)[0]\n",
    "\n",
    "        predicted_word = ix_to_word[top_i.item()]\n",
    "        predicted_words.append(predicted_word)\n",
    "        prime_input = torch.cat((prime_input, torch.tensor([top_i.item()]).to(device)), 0)\n",
    "\n",
    "    return ' '.join(predicted_words)\n"
   ]
  },
  {
   "cell_type": "code",
   "execution_count": null,
   "id": "5c39ee1c-6669-4153-8105-4a1140a48fdf",
   "metadata": {},
   "outputs": [
    {
     "name": "stdout",
     "output_type": "stream",
     "text": [
      "Chatbot is ready! Type 'quit' to exit.\n"
     ]
    },
    {
     "name": "stdin",
     "output_type": "stream",
     "text": [
      "You:  what is python\n"
     ]
    },
    {
     "name": "stdout",
     "output_type": "stream",
     "text": [
      "Bot: to imap some use your proxypass tablet programmer func the full wacom operator bclassdict broken did the url to do\n"
     ]
    },
    {
     "name": "stdin",
     "output_type": "stream",
     "text": [
      "You:  what is photoshop\n"
     ]
    },
    {
     "name": "stdout",
     "output_type": "stream",
     "text": [
      "Bot: to use day1 sqrt sqrt of ability readily duplicate demonstrate pas seen intended proceed weekday import weekday controllersinitpy controllersinitpy the\n"
     ]
    }
   ],
   "source": [
    "print(\"Chatbot is ready! Type 'quit' to exit.\")\n",
    "while True:\n",
    "    user_input = input(\"You: \")\n",
    "    if user_input.lower() == 'quit':\n",
    "        break\n",
    "    response = evaluate(user_input, predict_len=20, temperature=0.1)\n",
    "    print(\"Bot:\", response)"
   ]
  },
  {
   "cell_type": "code",
   "execution_count": null,
   "id": "de6e07fa-3f7e-4a75-9675-336ff924ac08",
   "metadata": {},
   "outputs": [],
   "source": []
  }
 ],
 "metadata": {
  "kernelspec": {
   "display_name": "Python 3 (ipykernel)",
   "language": "python",
   "name": "python3"
  },
  "language_info": {
   "codemirror_mode": {
    "name": "ipython",
    "version": 3
   },
   "file_extension": ".py",
   "mimetype": "text/x-python",
   "name": "python",
   "nbconvert_exporter": "python",
   "pygments_lexer": "ipython3",
   "version": "3.11.6"
  }
 },
 "nbformat": 4,
 "nbformat_minor": 5
}
